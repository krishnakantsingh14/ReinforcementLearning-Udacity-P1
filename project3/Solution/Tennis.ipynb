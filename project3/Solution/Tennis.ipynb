{
 "cells": [
  {
   "cell_type": "markdown",
   "metadata": {},
   "source": [
    "# Collaboration and Competition\n",
    "\n",
    "---\n",
    "\n",
    "You are welcome to use this coding environment to train your agent for the project.  Follow the instructions below to get started!\n",
    "\n",
    "### 1. Start the Environment\n",
    "\n",
    "Run the next code cell to install a few packages.  This line will take a few minutes to run!"
   ]
  },
  {
   "cell_type": "code",
   "execution_count": 1,
   "metadata": {},
   "outputs": [
    {
     "name": "stdout",
     "output_type": "stream",
     "text": [
      "\u001b[31mtensorflow 1.7.1 has requirement numpy>=1.13.3, but you'll have numpy 1.12.1 which is incompatible.\u001b[0m\r\n",
      "\u001b[31mipython 6.5.0 has requirement prompt-toolkit<2.0.0,>=1.0.15, but you'll have prompt-toolkit 3.0.5 which is incompatible.\u001b[0m\r\n"
     ]
    }
   ],
   "source": [
    "!pip -q install ./python"
   ]
  },
  {
   "cell_type": "markdown",
   "metadata": {},
   "source": [
    "The environment is already saved in the Workspace and can be accessed at the file path provided below. "
   ]
  },
  {
   "cell_type": "code",
   "execution_count": 2,
   "metadata": {},
   "outputs": [
    {
     "name": "stderr",
     "output_type": "stream",
     "text": [
      "INFO:unityagents:\n",
      "'Academy' started successfully!\n",
      "Unity Academy name: Academy\n",
      "        Number of Brains: 1\n",
      "        Number of External Brains : 1\n",
      "        Lesson number : 0\n",
      "        Reset Parameters :\n",
      "\t\t\n",
      "Unity brain name: TennisBrain\n",
      "        Number of Visual Observations (per agent): 0\n",
      "        Vector Observation space type: continuous\n",
      "        Vector Observation space size (per agent): 8\n",
      "        Number of stacked Vector Observation: 3\n",
      "        Vector Action space type: continuous\n",
      "        Vector Action space size (per agent): 2\n",
      "        Vector Action descriptions: , \n"
     ]
    }
   ],
   "source": [
    "from unityagents import UnityEnvironment\n",
    "import numpy as np\n",
    "\n",
    "env = UnityEnvironment(file_name=\"/data/Tennis_Linux_NoVis/Tennis\")"
   ]
  },
  {
   "cell_type": "markdown",
   "metadata": {},
   "source": [
    "Environments contain **_brains_** which are responsible for deciding the actions of their associated agents. Here we check for the first brain available, and set it as the default brain we will be controlling from Python."
   ]
  },
  {
   "cell_type": "code",
   "execution_count": 3,
   "metadata": {},
   "outputs": [],
   "source": [
    "# get the default brain\n",
    "brain_name = env.brain_names[0]\n",
    "brain = env.brains[brain_name]"
   ]
  },
  {
   "cell_type": "markdown",
   "metadata": {},
   "source": [
    "### 2. Examine the State and Action Spaces\n",
    "\n",
    "Run the code cell below to print some information about the environment."
   ]
  },
  {
   "cell_type": "code",
   "execution_count": 4,
   "metadata": {},
   "outputs": [
    {
     "name": "stdout",
     "output_type": "stream",
     "text": [
      "Number of agents: 2\n",
      "Size of each action: 2\n",
      "There are 2 agents. Each observes a state with length: 24\n",
      "The state for the first agent looks like: [ 0.          0.          0.          0.          0.          0.          0.\n",
      "  0.          0.          0.          0.          0.          0.          0.\n",
      "  0.          0.         -6.65278625 -1.5        -0.          0.\n",
      "  6.83172083  6.         -0.          0.        ]\n"
     ]
    }
   ],
   "source": [
    "# reset the environment\n",
    "env_info = env.reset(train_mode=True)[brain_name]\n",
    "\n",
    "# number of agents \n",
    "num_agents = len(env_info.agents)\n",
    "print('Number of agents:', num_agents)\n",
    "\n",
    "# size of each action\n",
    "action_size = brain.vector_action_space_size\n",
    "print('Size of each action:', action_size)\n",
    "\n",
    "# examine the state space \n",
    "states = env_info.vector_observations\n",
    "state_size = states.shape[1]\n",
    "print('There are {} agents. Each observes a state with length: {}'.format(states.shape[0], state_size))\n",
    "print('The state for the first agent looks like:', states[0])"
   ]
  },
  {
   "cell_type": "markdown",
   "metadata": {},
   "source": [
    "### 3. Take Random Actions in the Environment\n",
    "\n",
    "In the next code cell, you will learn how to use the Python API to control the agent and receive feedback from the environment.\n",
    "\n",
    "Note that **in this coding environment, you will not be able to watch the agents while they are training**, and you should set `train_mode=True` to restart the environment."
   ]
  },
  {
   "cell_type": "code",
   "execution_count": 5,
   "metadata": {},
   "outputs": [
    {
     "name": "stdout",
     "output_type": "stream",
     "text": [
      "Total score (averaged over agents) this episode: -0.004999999888241291\n",
      "Total score (averaged over agents) this episode: -0.004999999888241291\n",
      "Total score (averaged over agents) this episode: -0.004999999888241291\n",
      "Total score (averaged over agents) this episode: -0.004999999888241291\n",
      "Total score (averaged over agents) this episode: -0.004999999888241291\n"
     ]
    }
   ],
   "source": [
    "for i in range(5):                                         # play game for 5 episodes\n",
    "    env_info = env.reset(train_mode=False)[brain_name]     # reset the environment    \n",
    "    states = env_info.vector_observations                  # get the current state (for each agent)\n",
    "    scores = np.zeros(num_agents)                          # initialize the score (for each agent)\n",
    "    while True:\n",
    "        actions = np.random.randn(num_agents, action_size) # select an action (for each agent)\n",
    "        actions = np.clip(actions, -1, 1)                  # all actions between -1 and 1\n",
    "        env_info = env.step(actions)[brain_name]           # send all actions to tne environment\n",
    "        next_states = env_info.vector_observations         # get next state (for each agent)\n",
    "        rewards = env_info.rewards                         # get reward (for each agent)\n",
    "        dones = env_info.local_done                        # see if episode finished\n",
    "        scores += env_info.rewards                         # update the score (for each agent)\n",
    "        states = next_states                               # roll over states to next time step\n",
    "        if np.any(dones):                                  # exit loop if episode finished\n",
    "            break\n",
    "    print('Total score (averaged over agents) this episode: {}'.format(np.mean(scores)))"
   ]
  },
  {
   "cell_type": "markdown",
   "metadata": {},
   "source": [
    "When finished, you can close the environment."
   ]
  },
  {
   "cell_type": "code",
   "execution_count": 6,
   "metadata": {},
   "outputs": [],
   "source": [
    "# env.close()"
   ]
  },
  {
   "cell_type": "code",
   "execution_count": null,
   "metadata": {},
   "outputs": [],
   "source": []
  },
  {
   "cell_type": "markdown",
   "metadata": {},
   "source": [
    "### 4. It's Your Turn!\n",
    "\n",
    "Now it's your turn to train your own agent to solve the environment!  A few **important notes**:\n",
    "- When training the environment, set `train_mode=True`, so that the line for resetting the environment looks like the following:\n",
    "```python\n",
    "env_info = env.reset(train_mode=True)[brain_name]\n",
    "```\n",
    "- To structure your work, you're welcome to work directly in this Jupyter notebook, or you might like to start over with a new file!  You can see the list of files in the workspace by clicking on **_Jupyter_** in the top left corner of the notebook.\n",
    "- In this coding environment, you will not be able to watch the agents while they are training.  However, **_after training the agents_**, you can download the saved model weights to watch the agents on your own machine! "
   ]
  },
  {
   "cell_type": "code",
   "execution_count": 16,
   "metadata": {},
   "outputs": [],
   "source": [
    "from MADDPG import Actor, Critic, ReplayBuffer, OUNoise\n",
    "import torch\n",
    "import numpy as np\n",
    "import matplotlib.pyplot as plt\n",
    "from collections import deque\n",
    "%matplotlib inline"
   ]
  },
  {
   "cell_type": "code",
   "execution_count": 8,
   "metadata": {},
   "outputs": [],
   "source": [
    "BUFFER_SIZE = int(1e6)  # replay buffer size\n",
    "BATCH_SIZE = 128        # minibatch size\n",
    "GAMMA = 0.99            # discount factor\n",
    "TAU = 1e-2              # for soft update of target parameters\n",
    "LR_ACTOR = 1e-4         # learning rate of the actor \n",
    "LR_CRITIC = 2e-4        # learning rate of the critic\n",
    "WEIGHT_DECAY = 0        # L2 weight decay\n",
    "\n",
    "ADD_NOISE = True\n",
    "SEED = 0"
   ]
  },
  {
   "cell_type": "code",
   "execution_count": 9,
   "metadata": {},
   "outputs": [],
   "source": [
    "DEVICE = torch.device(\"cuda:0\" if torch.cuda.is_available() else \"cpu\")"
   ]
  },
  {
   "cell_type": "code",
   "execution_count": 10,
   "metadata": {},
   "outputs": [
    {
     "data": {
      "text/plain": [
       "device(type='cuda', index=0)"
      ]
     },
     "execution_count": 10,
     "metadata": {},
     "output_type": "execute_result"
    }
   ],
   "source": [
    "DEVICE"
   ]
  },
  {
   "cell_type": "code",
   "execution_count": 13,
   "metadata": {},
   "outputs": [],
   "source": [
    "out_path = './'"
   ]
  },
  {
   "cell_type": "code",
   "execution_count": 14,
   "metadata": {},
   "outputs": [],
   "source": [
    "shared_memory = ReplayBuffer(DEVICE, action_size, BUFFER_SIZE, BATCH_SIZE, SEED)\n",
    "noise = OUNoise(action_size, SEED)\n",
    "\n",
    "\n",
    "Agent_0 = 0\n",
    "Agent_1 = 1\n",
    "\n",
    "# We have one critic and two actors environment \n",
    "\n",
    "Agent0_Actor = Actor(DEVICE, Agent_0, state_size, action_size, SEED, \n",
    "                     shared_memory, noise, LR_ACTOR, WEIGHT_DECAY,out_path)\n",
    "Agent1_Actor = Actor(DEVICE, Agent_1, state_size, action_size, SEED, \n",
    "                     shared_memory, noise, LR_ACTOR, WEIGHT_DECAY, out_path)\n",
    "\n",
    "Shared_Critic = Critic(DEVICE, state_size, action_size, SEED, \n",
    "                       GAMMA, TAU, LR_CRITIC, WEIGHT_DECAY, out_path)"
   ]
  },
  {
   "cell_type": "code",
   "execution_count": 18,
   "metadata": {},
   "outputs": [
    {
     "name": "stdout",
     "output_type": "stream",
     "text": [
      "Episode: \t0 \tScore: \t-0.00 \tAverage Score: \t-0.00\n",
      "Episode: \t100 \tScore: \t-0.00 \tAverage Score: \t-0.00\n",
      "Episode: \t200 \tScore: \t-0.00 \tAverage Score: \t-0.00\n",
      "Episode: \t300 \tScore: \t-0.00 \tAverage Score: \t-0.00\n",
      "Episode: \t400 \tScore: \t-0.00 \tAverage Score: \t0.000\n",
      "Episode: \t500 \tScore: \t0.05 \tAverage Score: \t0.066\n",
      "Episode: \t600 \tScore: \t0.50 \tAverage Score: \t0.300\n",
      "Episode: \t700 \tScore: \t0.15 \tAverage Score: \t0.398\n",
      "Episode: \t800 \tScore: \t2.10 \tAverage Score: \t0.442\n",
      "Episode: \t854 \tScore: \t2.50 \tAverage Score: \t0.504\n",
      "Environment solved in 854 episodes!\tAverage Score: 0.50\n"
     ]
    }
   ],
   "source": [
    "scores = []\n",
    "scores_window = deque(maxlen=100)\n",
    "n_episodes = 6000\n",
    "scores_avg = []\n",
    "for i_episode in range(n_episodes):\n",
    "    env_info = env.reset(train_mode=True)[brain_name]            \n",
    "    states = env_info.vector_observations                        \n",
    "    Agent0_Actor.reset()                                             \n",
    "    Agent1_Actor.reset()\n",
    "                                              \n",
    "    score = np.zeros(num_agents)\n",
    "    \n",
    "        \n",
    "    while True:\n",
    "        agent0_action = Agent0_Actor.act(states[Agent_0], ADD_NOISE)\n",
    "        agent1_action = Agent1_Actor.act(states[Agent_1], ADD_NOISE)\n",
    "        actions = np.concatenate( (agent0_action, agent1_action) )\n",
    "        \n",
    "        env_info = env.step(actions)[brain_name]                              \n",
    "        next_states = env_info.vector_observations                      \n",
    "        rewards = env_info.rewards                                  \n",
    "        dones = env_info.local_done                                \n",
    "\n",
    "        Agent0_Actor.step(states[Agent_0], agent0_action, rewards[Agent_0], next_states[Agent_0], dones[Agent_0])\n",
    "        Agent1_Actor.step(states[Agent_1], agent1_action, rewards[Agent_1], next_states[Agent_1], dones[Agent_1])\n",
    "            \n",
    "        Shared_Critic.step(Agent0_Actor, shared_memory)\n",
    "        Shared_Critic.step(Agent1_Actor, shared_memory)\n",
    "\n",
    "        score += rewards                                         \n",
    "        \n",
    "        states = next_states                                          \n",
    "                                                        \n",
    "        if np.any( dones ):      \n",
    "            break                                        \n",
    "\n",
    "    Agent0_Actor.checkpoint()\n",
    "    Agent1_Actor.checkpoint()\n",
    "    Shared_Critic.checkpoint()\n",
    "\n",
    "    scores.append(score)\n",
    "    scores_window.append(score)\n",
    "    scores_avg.append(np.mean(scores_window))\n",
    "        \n",
    "    print('\\rEpisode: \\t{} \\tScore: \\t{:.2f} \\tAverage Score: \\t{:.2f}'.format(\n",
    "        i_episode, np.mean(score), np.mean(scores_window)), end=\"\")  \n",
    "    if i_episode % 100 ==0:\n",
    "        print('\\rEpisode: \\t{} \\tScore: \\t{:.2f} \\tAverage Score: \\t{:.2f}'.format(\n",
    "        i_episode, np.mean(score), np.mean(scores_window)))\n",
    "        \n",
    "    if np.mean(scores_window) >= 0.5:\n",
    "        print('\\nEnvironment solved in {:d} episodes!\\tAverage Score: {:.2f}'.format(i_episode, np.mean(scores_window)))\n",
    "        break    \n",
    " \n",
    "    \n",
    "\n",
    "\n",
    "# train the agent\n"
   ]
  },
  {
   "cell_type": "code",
   "execution_count": 20,
   "metadata": {},
   "outputs": [
    {
     "data": {
      "image/png": "[encoded data removed]",
      "text/plain": [
       "<matplotlib.figure.Figure at 0x7f3cfee7b518>"
      ]
     },
     "metadata": {
      "needs_background": "light"
     },
     "output_type": "display_data"
    }
   ],
   "source": [
    "import matplotlib\n",
    "\n",
    "\n",
    "matplotlib.rcParams['xtick.labelsize'] = 16\n",
    "matplotlib.rcParams['ytick.labelsize'] = 16\n",
    "\n",
    "\n",
    "figsize = 15,9\n",
    "figure, ax = plt.subplots(figsize=figsize)\n",
    "plt.plot(np.arange(1, len(scores)+1), scores, 'r', label='Scores')\n",
    "plt.plot(np.arange(1, len(scores)+1), scores_avg,'g',\\\n",
    "         linewidth=5,label='Avg. score of last 100 episodes')\n",
    "plt.plot([1,len(scores)+1], [.5,.5], 'b')\n",
    "plt.ylabel('Score',  fontsize=16)\n",
    "plt.xlabel('Episode #',  fontsize=16)\n",
    "plt.savefig('MADDPG_tennis.png')\n",
    "ax.legend(fontsize=14)\n",
    "plt.show()"
   ]
  },
  {
   "cell_type": "code",
   "execution_count": null,
   "metadata": {},
   "outputs": [],
   "source": []
  },
  {
   "cell_type": "code",
   "execution_count": 23,
   "metadata": {},
   "outputs": [
    {
     "name": "stdout",
     "output_type": "stream",
     "text": [
      "Episode: \t1 \tScore: \t2.60\n",
      "Episode: \t2 \tScore: \t2.60\n",
      "Episode: \t3 \tScore: \t2.70\n",
      "Episode: \t4 \tScore: \t2.60\n"
     ]
    }
   ],
   "source": [
    "# test the trained agents\n",
    "for episode in range(4):\n",
    "    env_info = env.reset(train_mode=False)[brain_name]           # reset the environment\n",
    "    states = env_info.vector_observations                        # get initial states\n",
    "    score = np.zeros(num_agents)\n",
    "    \n",
    "    while True:\n",
    "        action_0 = Agent0_Actor.act(states[Agent_0], add_noise=False)\n",
    "        action_1 = Agent1_Actor.act(states[Agent_1], add_noise=False)\n",
    "        actions = np.concatenate((action_0, action_1))\n",
    "        \n",
    "        env_info = env.step( actions )[brain_name]               # send the action to the environment                            \n",
    "        next_states = env_info.vector_observations               # get the next state        \n",
    "        rewards = env_info.rewards                               # get the reward        \n",
    "        dones = env_info.local_done                              # see if episode has finished        \n",
    "        \n",
    "        score += rewards\n",
    "\n",
    "        states = next_states\n",
    "\n",
    "        if np.any(dones):                              \n",
    "            break\n",
    "\n",
    "    print('Episode: \\t{} \\tScore: \\t{:.2f}'.format(episode+1, np.max(score)))\n",
    "\n"
   ]
  },
  {
   "cell_type": "code",
   "execution_count": null,
   "metadata": {},
   "outputs": [],
   "source": []
  }
 ],
 "metadata": {
  "kernelspec": {
   "display_name": "Python 3",
   "language": "python",
   "name": "python3"
  },
  "language_info": {
   "codemirror_mode": {
    "name": "ipython",
    "version": 3
   },
   "file_extension": ".py",
   "mimetype": "text/x-python",
   "name": "python",
   "nbconvert_exporter": "python",
   "pygments_lexer": "ipython3",
   "version": "3.6.3"
  }
 },
 "nbformat": 4,
 "nbformat_minor": 2
}
